{
 "cells": [
  {
   "cell_type": "code",
   "execution_count": 1,
   "metadata": {},
   "outputs": [
    {
     "ename": "ImportError",
     "evalue": "cannot import name 'API'",
     "output_type": "error",
     "traceback": [
      "\u001b[0;31m---------------------------------------------------------------------------\u001b[0m",
      "\u001b[0;31mImportError\u001b[0m                               Traceback (most recent call last)",
      "\u001b[0;32m<ipython-input-1-256feebd070a>\u001b[0m in \u001b[0;36m<module>\u001b[0;34m\u001b[0m\n\u001b[1;32m      8\u001b[0m \u001b[0;32mfrom\u001b[0m \u001b[0mpprint\u001b[0m \u001b[0;32mimport\u001b[0m \u001b[0mpprint\u001b[0m\u001b[0;34m\u001b[0m\u001b[0;34m\u001b[0m\u001b[0m\n\u001b[1;32m      9\u001b[0m \u001b[0;34m\u001b[0m\u001b[0m\n\u001b[0;32m---> 10\u001b[0;31m \u001b[0;32mfrom\u001b[0m \u001b[0msecrets\u001b[0m \u001b[0;32mimport\u001b[0m \u001b[0mAPI\u001b[0m\u001b[0;34m\u001b[0m\u001b[0;34m\u001b[0m\u001b[0m\n\u001b[0m",
      "\u001b[0;31mImportError\u001b[0m: cannot import name 'API'"
     ]
    }
   ],
   "source": [
    "import json\n",
    "import random\n",
    "import pandas as pd\n",
    "import matplotlib.pyplot as plt\n",
    "import requests\n",
    "\n",
    "from scipy.stats import linregress\n",
    "from pprint import pprint\n",
    "\n",
    "from secrets import API\n"
   ]
  },
  {
   "cell_type": "code",
   "execution_count": null,
   "metadata": {
    "scrolled": true
   },
   "outputs": [],
   "source": [
    "url = \"https://api.sportsdata.io/v3/nfl/stats/json/Injuries\"\n",
    "season = 2020\n",
    "week = 2\n",
    "team = \"IND\"\n",
    "target_url = f'{url}/{season}/{week}/{team}?key={API}'\n",
    "print (target_url)\n",
    "\n",
    "response = requests.get(target_url).json()\n",
    "response"
   ]
  },
  {
   "cell_type": "code",
   "execution_count": null,
   "metadata": {},
   "outputs": [],
   "source": [
    "season = \"2015POST\"\n",
    "week = 1\n",
    "test_url = f\"https://api.sportsdata.io/v3/nfl/stats/json/Injuries/\"\n",
    "\n",
    "new_url = f'{test_url}/{season}/{week}?key={API}'\n",
    "#print (new_url)\n",
    "\n",
    "response = requests.get(new_url).json()\n",
    "response"
   ]
  },
  {
   "cell_type": "code",
   "execution_count": null,
   "metadata": {},
   "outputs": [],
   "source": [
    "team_list = []\n",
    "# create list of teams\n",
    "for team in team_list:\n",
    "    response = requests.get(new_url).json()\n",
    "    team_list.append(response['Team'])\n",
    "    team = response['Team']\n",
    "    if team not in team_list:\n",
    "        team_list.append(team)\n",
    "        \n",
    "print(response['Team'])\n",
    "        "
   ]
  },
  {
   "cell_type": "code",
   "execution_count": null,
   "metadata": {},
   "outputs": [],
   "source": [
    "injury_id = []\n",
    "player_id =[]\n",
    "season = []\n",
    "season_type = []\n",
    "name_list = []\n",
    "\n",
    "position_list = []\n",
    "injury_body_part = []\n",
    "declared_inactive = []\n"
   ]
  }
 ],
 "metadata": {
  "kernelspec": {
   "display_name": "Python 3",
   "language": "python",
   "name": "python3"
  },
  "language_info": {
   "codemirror_mode": {
    "name": "ipython",
    "version": 3
   },
   "file_extension": ".py",
   "mimetype": "text/x-python",
   "name": "python",
   "nbconvert_exporter": "python",
   "pygments_lexer": "ipython3",
   "version": "3.6.10"
  }
 },
 "nbformat": 4,
 "nbformat_minor": 2
}
