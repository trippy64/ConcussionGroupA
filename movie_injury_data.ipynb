{
 "cells": [
  {
   "cell_type": "code",
   "execution_count": 26,
   "metadata": {},
   "outputs": [],
   "source": [
    "import json\n",
    "import os\n",
    "import random\n",
    "import pandas as pd\n",
    "import matplotlib.pyplot as plt\n",
    "import requests\n",
    "from scipy.stats import linregress\n",
    "from pprint import pprint\n",
    "from secrets import api_key\n",
    "import scipy.stats as stats"
   ]
  },
  {
   "cell_type": "code",
   "execution_count": 2,
   "metadata": {},
   "outputs": [
    {
     "data": {
      "text/html": [
       "<div>\n",
       "<style scoped>\n",
       "    .dataframe tbody tr th:only-of-type {\n",
       "        vertical-align: middle;\n",
       "    }\n",
       "\n",
       "    .dataframe tbody tr th {\n",
       "        vertical-align: top;\n",
       "    }\n",
       "\n",
       "    .dataframe thead th {\n",
       "        text-align: right;\n",
       "    }\n",
       "</style>\n",
       "<table border=\"1\" class=\"dataframe\">\n",
       "  <thead>\n",
       "    <tr style=\"text-align: right;\">\n",
       "      <th></th>\n",
       "      <th>Unnamed: 0</th>\n",
       "      <th>Player ID</th>\n",
       "      <th>Season</th>\n",
       "      <th>Season Type</th>\n",
       "      <th>Week</th>\n",
       "      <th>Name</th>\n",
       "      <th>Team</th>\n",
       "      <th>Position</th>\n",
       "      <th>Body Part</th>\n",
       "      <th>Declared Inactive</th>\n",
       "    </tr>\n",
       "  </thead>\n",
       "  <tbody>\n",
       "    <tr>\n",
       "      <th>0</th>\n",
       "      <td>0</td>\n",
       "      <td>6048</td>\n",
       "      <td>2012</td>\n",
       "      <td>1</td>\n",
       "      <td>1</td>\n",
       "      <td>Early Doucet</td>\n",
       "      <td>ARI</td>\n",
       "      <td>WR</td>\n",
       "      <td>--</td>\n",
       "      <td>False</td>\n",
       "    </tr>\n",
       "    <tr>\n",
       "      <th>1</th>\n",
       "      <td>1</td>\n",
       "      <td>6353</td>\n",
       "      <td>2012</td>\n",
       "      <td>1</td>\n",
       "      <td>1</td>\n",
       "      <td>Adam Snyder</td>\n",
       "      <td>ARI</td>\n",
       "      <td>G</td>\n",
       "      <td>Elbow</td>\n",
       "      <td>False</td>\n",
       "    </tr>\n",
       "    <tr>\n",
       "      <th>2</th>\n",
       "      <td>2</td>\n",
       "      <td>9319</td>\n",
       "      <td>2012</td>\n",
       "      <td>1</td>\n",
       "      <td>1</td>\n",
       "      <td>LaRod Stephens-Howling</td>\n",
       "      <td>ARI</td>\n",
       "      <td>RB</td>\n",
       "      <td>Groin</td>\n",
       "      <td>False</td>\n",
       "    </tr>\n",
       "    <tr>\n",
       "      <th>3</th>\n",
       "      <td>3</td>\n",
       "      <td>9323</td>\n",
       "      <td>2012</td>\n",
       "      <td>1</td>\n",
       "      <td>1</td>\n",
       "      <td>Chris Wells</td>\n",
       "      <td>ARI</td>\n",
       "      <td>RB</td>\n",
       "      <td>Hamstring</td>\n",
       "      <td>False</td>\n",
       "    </tr>\n",
       "    <tr>\n",
       "      <th>4</th>\n",
       "      <td>4</td>\n",
       "      <td>9782</td>\n",
       "      <td>2012</td>\n",
       "      <td>1</td>\n",
       "      <td>1</td>\n",
       "      <td>Gregory Toler</td>\n",
       "      <td>ARI</td>\n",
       "      <td>CB</td>\n",
       "      <td>Hip</td>\n",
       "      <td>False</td>\n",
       "    </tr>\n",
       "  </tbody>\n",
       "</table>\n",
       "</div>"
      ],
      "text/plain": [
       "   Unnamed: 0  Player ID  Season  Season Type  Week                    Name  \\\n",
       "0           0       6048    2012            1     1            Early Doucet   \n",
       "1           1       6353    2012            1     1             Adam Snyder   \n",
       "2           2       9319    2012            1     1  LaRod Stephens-Howling   \n",
       "3           3       9323    2012            1     1             Chris Wells   \n",
       "4           4       9782    2012            1     1           Gregory Toler   \n",
       "\n",
       "  Team Position  Body Part Declared Inactive  \n",
       "0  ARI       WR         --             False  \n",
       "1  ARI        G      Elbow             False  \n",
       "2  ARI       RB      Groin             False  \n",
       "3  ARI       RB  Hamstring             False  \n",
       "4  ARI       CB        Hip             False  "
      ]
     },
     "execution_count": 2,
     "metadata": {},
     "output_type": "execute_result"
    }
   ],
   "source": [
    "injury_data_path= \"injury_data.csv\"\n",
    "injury_data=pd.read_csv(injury_data_path)\n",
    "\n",
    "injury_data.head()"
   ]
  },
  {
   "cell_type": "code",
   "execution_count": 3,
   "metadata": {},
   "outputs": [],
   "source": [
    "injury_data['Body Part'] = injury_data['Body Part'].replace(\n",
    "    {'Concussion, ankle': 'Concussion', 'Concussion, eye': 'Concussion', 'Concussion, hip': 'Concussion', 'Concussion, illness': 'Concussion',\\\n",
    "    'Concussion, stinger': 'Concussion', 'Concussion, elbow': 'Concussion', 'Concussion, knee, ankle': 'Concussion','Concussion, hamstring': 'Concussion',\\\n",
    "    'Concussion, finger': 'Concussion', 'Concussion, chest': 'Concussion', 'Concussion, left shoulder': 'Concussion',\\\n",
    "    'Concussion, toe': 'Concussion', 'Concussion, foot, thigh': 'Concussion', 'Concussion, shoulder': 'Concussion',\\\n",
    "    'Concussion, groin': 'Concussion','Concussion, not injury related': 'Concussion', 'Concussion, neck': 'Concussion',\\\n",
    "    'Concusison': 'Concussion', 'Head': 'Concussion'})"
   ]
  },
  {
   "cell_type": "code",
   "execution_count": 4,
   "metadata": {},
   "outputs": [
    {
     "data": {
      "text/html": [
       "<div>\n",
       "<style scoped>\n",
       "    .dataframe tbody tr th:only-of-type {\n",
       "        vertical-align: middle;\n",
       "    }\n",
       "\n",
       "    .dataframe tbody tr th {\n",
       "        vertical-align: top;\n",
       "    }\n",
       "\n",
       "    .dataframe thead th {\n",
       "        text-align: right;\n",
       "    }\n",
       "</style>\n",
       "<table border=\"1\" class=\"dataframe\">\n",
       "  <thead>\n",
       "    <tr style=\"text-align: right;\">\n",
       "      <th></th>\n",
       "      <th>Unnamed: 0</th>\n",
       "      <th>Player ID</th>\n",
       "      <th>Season</th>\n",
       "      <th>Season Type</th>\n",
       "      <th>Week</th>\n",
       "      <th>Name</th>\n",
       "      <th>Team</th>\n",
       "      <th>Position</th>\n",
       "      <th>Body Part</th>\n",
       "      <th>Declared Inactive</th>\n",
       "    </tr>\n",
       "  </thead>\n",
       "  <tbody>\n",
       "    <tr>\n",
       "      <th>15</th>\n",
       "      <td>15</td>\n",
       "      <td>8638</td>\n",
       "      <td>2012</td>\n",
       "      <td>1</td>\n",
       "      <td>1</td>\n",
       "      <td>Sean Considine</td>\n",
       "      <td>BAL</td>\n",
       "      <td>S</td>\n",
       "      <td>Concussion</td>\n",
       "      <td>False</td>\n",
       "    </tr>\n",
       "    <tr>\n",
       "      <th>33</th>\n",
       "      <td>33</td>\n",
       "      <td>12607</td>\n",
       "      <td>2012</td>\n",
       "      <td>1</td>\n",
       "      <td>1</td>\n",
       "      <td>Lorenzo Booker</td>\n",
       "      <td>CHI</td>\n",
       "      <td>RB</td>\n",
       "      <td>Concussion</td>\n",
       "      <td>False</td>\n",
       "    </tr>\n",
       "    <tr>\n",
       "      <th>44</th>\n",
       "      <td>44</td>\n",
       "      <td>9956</td>\n",
       "      <td>2012</td>\n",
       "      <td>1</td>\n",
       "      <td>1</td>\n",
       "      <td>Dan Skuta</td>\n",
       "      <td>CIN</td>\n",
       "      <td>LB</td>\n",
       "      <td>Concussion</td>\n",
       "      <td>False</td>\n",
       "    </tr>\n",
       "    <tr>\n",
       "      <th>75</th>\n",
       "      <td>75</td>\n",
       "      <td>8853</td>\n",
       "      <td>2012</td>\n",
       "      <td>1</td>\n",
       "      <td>1</td>\n",
       "      <td>Gerald Sensabaugh</td>\n",
       "      <td>DAL</td>\n",
       "      <td>DB</td>\n",
       "      <td>Concussion</td>\n",
       "      <td>False</td>\n",
       "    </tr>\n",
       "    <tr>\n",
       "      <th>89</th>\n",
       "      <td>89</td>\n",
       "      <td>14201</td>\n",
       "      <td>2012</td>\n",
       "      <td>1</td>\n",
       "      <td>1</td>\n",
       "      <td>Bill Bentley</td>\n",
       "      <td>DET</td>\n",
       "      <td>DB</td>\n",
       "      <td>Concussion</td>\n",
       "      <td>False</td>\n",
       "    </tr>\n",
       "    <tr>\n",
       "      <th>...</th>\n",
       "      <td>...</td>\n",
       "      <td>...</td>\n",
       "      <td>...</td>\n",
       "      <td>...</td>\n",
       "      <td>...</td>\n",
       "      <td>...</td>\n",
       "      <td>...</td>\n",
       "      <td>...</td>\n",
       "      <td>...</td>\n",
       "      <td>...</td>\n",
       "    </tr>\n",
       "    <tr>\n",
       "      <th>55417</th>\n",
       "      <td>55417</td>\n",
       "      <td>20971</td>\n",
       "      <td>2020</td>\n",
       "      <td>1</td>\n",
       "      <td>7</td>\n",
       "      <td>Andrew Van Ginkel</td>\n",
       "      <td>MIA</td>\n",
       "      <td>OLB</td>\n",
       "      <td>Concussion</td>\n",
       "      <td>False</td>\n",
       "    </tr>\n",
       "    <tr>\n",
       "      <th>55439</th>\n",
       "      <td>55439</td>\n",
       "      <td>16851</td>\n",
       "      <td>2020</td>\n",
       "      <td>1</td>\n",
       "      <td>7</td>\n",
       "      <td>Carl Davis Jr.</td>\n",
       "      <td>NE</td>\n",
       "      <td>DT</td>\n",
       "      <td>Concussion</td>\n",
       "      <td>True</td>\n",
       "    </tr>\n",
       "    <tr>\n",
       "      <th>55457</th>\n",
       "      <td>55457</td>\n",
       "      <td>17457</td>\n",
       "      <td>2020</td>\n",
       "      <td>1</td>\n",
       "      <td>7</td>\n",
       "      <td>Nick Easton</td>\n",
       "      <td>NO</td>\n",
       "      <td>OL</td>\n",
       "      <td>Concussion</td>\n",
       "      <td>True</td>\n",
       "    </tr>\n",
       "    <tr>\n",
       "      <th>55473</th>\n",
       "      <td>55473</td>\n",
       "      <td>19200</td>\n",
       "      <td>2020</td>\n",
       "      <td>1</td>\n",
       "      <td>7</td>\n",
       "      <td>C.J. Board</td>\n",
       "      <td>NYG</td>\n",
       "      <td>WR</td>\n",
       "      <td>Concussion</td>\n",
       "      <td>True</td>\n",
       "    </tr>\n",
       "    <tr>\n",
       "      <th>55611</th>\n",
       "      <td>55611</td>\n",
       "      <td>21875</td>\n",
       "      <td>2020</td>\n",
       "      <td>1</td>\n",
       "      <td>7</td>\n",
       "      <td>James Smith-Williams</td>\n",
       "      <td>WAS</td>\n",
       "      <td>DE</td>\n",
       "      <td>Concussion</td>\n",
       "      <td>True</td>\n",
       "    </tr>\n",
       "  </tbody>\n",
       "</table>\n",
       "<p>2992 rows × 10 columns</p>\n",
       "</div>"
      ],
      "text/plain": [
       "       Unnamed: 0  Player ID  Season  Season Type  Week                  Name  \\\n",
       "15             15       8638    2012            1     1        Sean Considine   \n",
       "33             33      12607    2012            1     1        Lorenzo Booker   \n",
       "44             44       9956    2012            1     1             Dan Skuta   \n",
       "75             75       8853    2012            1     1     Gerald Sensabaugh   \n",
       "89             89      14201    2012            1     1          Bill Bentley   \n",
       "...           ...        ...     ...          ...   ...                   ...   \n",
       "55417       55417      20971    2020            1     7     Andrew Van Ginkel   \n",
       "55439       55439      16851    2020            1     7        Carl Davis Jr.   \n",
       "55457       55457      17457    2020            1     7           Nick Easton   \n",
       "55473       55473      19200    2020            1     7            C.J. Board   \n",
       "55611       55611      21875    2020            1     7  James Smith-Williams   \n",
       "\n",
       "      Team Position   Body Part Declared Inactive  \n",
       "15     BAL        S  Concussion             False  \n",
       "33     CHI       RB  Concussion             False  \n",
       "44     CIN       LB  Concussion             False  \n",
       "75     DAL       DB  Concussion             False  \n",
       "89     DET       DB  Concussion             False  \n",
       "...    ...      ...         ...               ...  \n",
       "55417  MIA      OLB  Concussion             False  \n",
       "55439   NE       DT  Concussion              True  \n",
       "55457   NO       OL  Concussion              True  \n",
       "55473  NYG       WR  Concussion              True  \n",
       "55611  WAS       DE  Concussion              True  \n",
       "\n",
       "[2992 rows x 10 columns]"
      ]
     },
     "execution_count": 4,
     "metadata": {},
     "output_type": "execute_result"
    }
   ],
   "source": [
    "concussion_df = injury_data.loc[(injury_data['Body Part'] == 'Concussion')]\n",
    "concussion_df"
   ]
  },
  {
   "cell_type": "code",
   "execution_count": 5,
   "metadata": {},
   "outputs": [
    {
     "data": {
      "text/html": [
       "<div>\n",
       "<style scoped>\n",
       "    .dataframe tbody tr th:only-of-type {\n",
       "        vertical-align: middle;\n",
       "    }\n",
       "\n",
       "    .dataframe tbody tr th {\n",
       "        vertical-align: top;\n",
       "    }\n",
       "\n",
       "    .dataframe thead th {\n",
       "        text-align: right;\n",
       "    }\n",
       "</style>\n",
       "<table border=\"1\" class=\"dataframe\">\n",
       "  <thead>\n",
       "    <tr style=\"text-align: right;\">\n",
       "      <th></th>\n",
       "      <th>Season</th>\n",
       "      <th>Unnamed: 0</th>\n",
       "      <th>Player ID</th>\n",
       "      <th>Season Type</th>\n",
       "      <th>Week</th>\n",
       "      <th>Name</th>\n",
       "      <th>Team</th>\n",
       "      <th>Position</th>\n",
       "      <th>Body Part</th>\n",
       "      <th>Declared Inactive</th>\n",
       "    </tr>\n",
       "  </thead>\n",
       "  <tbody>\n",
       "    <tr>\n",
       "      <th>0</th>\n",
       "      <td>2012</td>\n",
       "      <td>380</td>\n",
       "      <td>380</td>\n",
       "      <td>380</td>\n",
       "      <td>380</td>\n",
       "      <td>380</td>\n",
       "      <td>380</td>\n",
       "      <td>380</td>\n",
       "      <td>380</td>\n",
       "      <td>380</td>\n",
       "    </tr>\n",
       "    <tr>\n",
       "      <th>1</th>\n",
       "      <td>2013</td>\n",
       "      <td>288</td>\n",
       "      <td>288</td>\n",
       "      <td>288</td>\n",
       "      <td>288</td>\n",
       "      <td>288</td>\n",
       "      <td>288</td>\n",
       "      <td>288</td>\n",
       "      <td>288</td>\n",
       "      <td>288</td>\n",
       "    </tr>\n",
       "    <tr>\n",
       "      <th>2</th>\n",
       "      <td>2014</td>\n",
       "      <td>229</td>\n",
       "      <td>229</td>\n",
       "      <td>229</td>\n",
       "      <td>229</td>\n",
       "      <td>229</td>\n",
       "      <td>229</td>\n",
       "      <td>229</td>\n",
       "      <td>229</td>\n",
       "      <td>130</td>\n",
       "    </tr>\n",
       "    <tr>\n",
       "      <th>3</th>\n",
       "      <td>2015</td>\n",
       "      <td>330</td>\n",
       "      <td>330</td>\n",
       "      <td>330</td>\n",
       "      <td>330</td>\n",
       "      <td>330</td>\n",
       "      <td>330</td>\n",
       "      <td>330</td>\n",
       "      <td>330</td>\n",
       "      <td>48</td>\n",
       "    </tr>\n",
       "    <tr>\n",
       "      <th>4</th>\n",
       "      <td>2016</td>\n",
       "      <td>461</td>\n",
       "      <td>461</td>\n",
       "      <td>461</td>\n",
       "      <td>461</td>\n",
       "      <td>461</td>\n",
       "      <td>461</td>\n",
       "      <td>461</td>\n",
       "      <td>461</td>\n",
       "      <td>82</td>\n",
       "    </tr>\n",
       "    <tr>\n",
       "      <th>5</th>\n",
       "      <td>2017</td>\n",
       "      <td>486</td>\n",
       "      <td>486</td>\n",
       "      <td>486</td>\n",
       "      <td>486</td>\n",
       "      <td>486</td>\n",
       "      <td>486</td>\n",
       "      <td>486</td>\n",
       "      <td>486</td>\n",
       "      <td>486</td>\n",
       "    </tr>\n",
       "    <tr>\n",
       "      <th>6</th>\n",
       "      <td>2018</td>\n",
       "      <td>358</td>\n",
       "      <td>358</td>\n",
       "      <td>358</td>\n",
       "      <td>358</td>\n",
       "      <td>358</td>\n",
       "      <td>358</td>\n",
       "      <td>358</td>\n",
       "      <td>358</td>\n",
       "      <td>358</td>\n",
       "    </tr>\n",
       "    <tr>\n",
       "      <th>7</th>\n",
       "      <td>2019</td>\n",
       "      <td>417</td>\n",
       "      <td>417</td>\n",
       "      <td>417</td>\n",
       "      <td>417</td>\n",
       "      <td>417</td>\n",
       "      <td>417</td>\n",
       "      <td>417</td>\n",
       "      <td>417</td>\n",
       "      <td>417</td>\n",
       "    </tr>\n",
       "  </tbody>\n",
       "</table>\n",
       "</div>"
      ],
      "text/plain": [
       "   Season  Unnamed: 0  Player ID  Season Type  Week  Name  Team  Position  \\\n",
       "0    2012         380        380          380   380   380   380       380   \n",
       "1    2013         288        288          288   288   288   288       288   \n",
       "2    2014         229        229          229   229   229   229       229   \n",
       "3    2015         330        330          330   330   330   330       330   \n",
       "4    2016         461        461          461   461   461   461       461   \n",
       "5    2017         486        486          486   486   486   486       486   \n",
       "6    2018         358        358          358   358   358   358       358   \n",
       "7    2019         417        417          417   417   417   417       417   \n",
       "\n",
       "   Body Part  Declared Inactive  \n",
       "0        380                380  \n",
       "1        288                288  \n",
       "2        229                130  \n",
       "3        330                 48  \n",
       "4        461                 82  \n",
       "5        486                486  \n",
       "6        358                358  \n",
       "7        417                417  "
      ]
     },
     "execution_count": 5,
     "metadata": {},
     "output_type": "execute_result"
    }
   ],
   "source": [
    "per_season= concussion_df.groupby([\"Season\"]).count()\n",
    "\n",
    "per_season=per_season.reset_index()\n",
    "per_season=per_season[per_season[\"Season\"] != 2020]\n",
    "per_season\n"
   ]
  },
  {
   "cell_type": "code",
   "execution_count": 6,
   "metadata": {},
   "outputs": [
    {
     "data": {
      "image/png": "[encoded data removed]",
      "text/plain": [
       "<Figure size 432x288 with 1 Axes>"
      ]
     },
     "metadata": {
      "needs_background": "light"
     },
     "output_type": "display_data"
    },
    {
     "data": {
      "text/plain": [
       "<Figure size 432x288 with 0 Axes>"
      ]
     },
     "metadata": {},
     "output_type": "display_data"
    }
   ],
   "source": [
    "x= [2012, 2013, 2014, 2015, 2016, 2017, 2018, 2019]\n",
    "\n",
    "y= per_season[\"Body Part\"]\n",
    "\n",
    "plt.bar(x,y)\n",
    "plt.title(\"Total Concussions during the Regular Season\")\n",
    "plt.xlabel(\"Year\")\n",
    "plt.ylabel(\"Number of Concussions\")\n",
    "plt.show()\n",
    "plt.savefig(\"totalconcussionsseasons\")"
   ]
  },
  {
   "cell_type": "code",
   "execution_count": 7,
   "metadata": {},
   "outputs": [
    {
     "data": {
      "image/png": "[encoded data removed]",
      "text/plain": [
       "<Figure size 432x288 with 1 Axes>"
      ]
     },
     "metadata": {
      "needs_background": "light"
     },
     "output_type": "display_data"
    },
    {
     "data": {
      "text/plain": [
       "<Figure size 432x288 with 0 Axes>"
      ]
     },
     "metadata": {},
     "output_type": "display_data"
    }
   ],
   "source": [
    "x= [2012, 2013, 2014, 2015, 2016, 2017, 2018, 2019]\n",
    "\n",
    "y= per_season[\"Body Part\"]\n",
    "\n",
    "plt.plot(x,y)\n",
    "plt.title(\"Total Concussions during the Regular Season\")\n",
    "plt.xlabel(\"Year\")\n",
    "plt.ylabel(\"Number of Concussions\")\n",
    "plt.vlines(2015.5, 500, 10, alpha= 1, color= \"red\")\n",
    "plt.text(2015.3, 175, \"Movie Released\", rotation= 90)\n",
    "plt.show()\n",
    "plt.savefig(\"totalconcussionsseasonsline\")"
   ]
  },
  {
   "cell_type": "code",
   "execution_count": 9,
   "metadata": {},
   "outputs": [
    {
     "data": {
      "text/plain": [
       "368.625"
      ]
     },
     "execution_count": 9,
     "metadata": {},
     "output_type": "execute_result"
    }
   ],
   "source": [
    "mean_concussions= per_season.mean()[\"Body Part\"]\n",
    "mean_concussions\n"
   ]
  },
  {
   "cell_type": "code",
   "execution_count": 10,
   "metadata": {},
   "outputs": [
    {
     "data": {
      "text/plain": [
       "Body Part    306.75\n",
       "dtype: float64"
      ]
     },
     "execution_count": 10,
     "metadata": {},
     "output_type": "execute_result"
    }
   ],
   "source": [
    "before_movie=per_season[[\"Body Part\"]].iloc[[0,1,2,3]].mean()\n",
    "before_movie"
   ]
  },
  {
   "cell_type": "code",
   "execution_count": 11,
   "metadata": {},
   "outputs": [
    {
     "data": {
      "text/plain": [
       "Body Part    430.5\n",
       "dtype: float64"
      ]
     },
     "execution_count": 11,
     "metadata": {},
     "output_type": "execute_result"
    }
   ],
   "source": [
    "after_movie=per_season[[\"Body Part\"]].iloc[[4,5,6,7]].mean()\n",
    "after_movie"
   ]
  },
  {
   "cell_type": "code",
   "execution_count": 21,
   "metadata": {},
   "outputs": [
    {
     "data": {
      "image/png": "[encoded data removed]",
      "text/plain": [
       "<Figure size 432x288 with 1 Axes>"
      ]
     },
     "metadata": {
      "needs_background": "light"
     },
     "output_type": "display_data"
    }
   ],
   "source": [
    "x= [\"Mean Overall (2012-2019)\", \"Mean Before Movie\", \"Mean After Movie\"]\n",
    "y= [mean_concussions, before_movie, after_movie]\n",
    "\n",
    "plt.bar(x,y, color= \"green\")\n",
    "plt.xticks(rotation=45)\n",
    "plt.title(\"Average before and ater Movie\")\n",
    "plt.ylabel('Mean')\n",
    "plt.savefig(\"meanoverall\")\n",
    "plt.show()"
   ]
  },
  {
   "cell_type": "code",
   "execution_count": 12,
   "metadata": {},
   "outputs": [
    {
     "data": {
      "image/png": "[encoded data removed]",
      "text/plain": [
       "<Figure size 432x288 with 1 Axes>"
      ]
     },
     "metadata": {},
     "output_type": "display_data"
    },
    {
     "data": {
      "text/plain": [
       "<Figure size 432x288 with 0 Axes>"
      ]
     },
     "metadata": {},
     "output_type": "display_data"
    }
   ],
   "source": [
    "labels=[\"Average Before Movie- 306\", \"Average After Movie- 430\"]\n",
    "count=[306.75, 430.5]\n",
    "colors=[\"blue\", \"red\"]\n",
    "explode=(.5, 0)\n",
    "\n",
    "plt.pie(count, labels=labels, colors=colors, shadow= True, startangle=140)\n",
    "plt.title(\"Average number of Concussions in Season\")\n",
    "plt.axis(\"equal\")\n",
    "plt.show()\n",
    "plt.savefig(\"averageperseason\")"
   ]
  },
  {
   "cell_type": "code",
   "execution_count": 22,
   "metadata": {},
   "outputs": [
    {
     "data": {
      "text/html": [
       "<div>\n",
       "<style scoped>\n",
       "    .dataframe tbody tr th:only-of-type {\n",
       "        vertical-align: middle;\n",
       "    }\n",
       "\n",
       "    .dataframe tbody tr th {\n",
       "        vertical-align: top;\n",
       "    }\n",
       "\n",
       "    .dataframe thead th {\n",
       "        text-align: right;\n",
       "    }\n",
       "</style>\n",
       "<table border=\"1\" class=\"dataframe\">\n",
       "  <thead>\n",
       "    <tr style=\"text-align: right;\">\n",
       "      <th></th>\n",
       "      <th>Body Part</th>\n",
       "    </tr>\n",
       "  </thead>\n",
       "  <tbody>\n",
       "    <tr>\n",
       "      <th>0</th>\n",
       "      <td>380</td>\n",
       "    </tr>\n",
       "    <tr>\n",
       "      <th>1</th>\n",
       "      <td>288</td>\n",
       "    </tr>\n",
       "    <tr>\n",
       "      <th>2</th>\n",
       "      <td>229</td>\n",
       "    </tr>\n",
       "    <tr>\n",
       "      <th>3</th>\n",
       "      <td>330</td>\n",
       "    </tr>\n",
       "  </tbody>\n",
       "</table>\n",
       "</div>"
      ],
      "text/plain": [
       "   Body Part\n",
       "0        380\n",
       "1        288\n",
       "2        229\n",
       "3        330"
      ]
     },
     "execution_count": 22,
     "metadata": {},
     "output_type": "execute_result"
    }
   ],
   "source": [
    "before_movie_df=per_season[[\"Body Part\"]].iloc[[0,1,2,3]]\n",
    "before_movie_df"
   ]
  },
  {
   "cell_type": "code",
   "execution_count": 24,
   "metadata": {},
   "outputs": [
    {
     "data": {
      "text/html": [
       "<div>\n",
       "<style scoped>\n",
       "    .dataframe tbody tr th:only-of-type {\n",
       "        vertical-align: middle;\n",
       "    }\n",
       "\n",
       "    .dataframe tbody tr th {\n",
       "        vertical-align: top;\n",
       "    }\n",
       "\n",
       "    .dataframe thead th {\n",
       "        text-align: right;\n",
       "    }\n",
       "</style>\n",
       "<table border=\"1\" class=\"dataframe\">\n",
       "  <thead>\n",
       "    <tr style=\"text-align: right;\">\n",
       "      <th></th>\n",
       "      <th>Body Part</th>\n",
       "    </tr>\n",
       "  </thead>\n",
       "  <tbody>\n",
       "    <tr>\n",
       "      <th>4</th>\n",
       "      <td>461</td>\n",
       "    </tr>\n",
       "    <tr>\n",
       "      <th>5</th>\n",
       "      <td>486</td>\n",
       "    </tr>\n",
       "    <tr>\n",
       "      <th>6</th>\n",
       "      <td>358</td>\n",
       "    </tr>\n",
       "    <tr>\n",
       "      <th>7</th>\n",
       "      <td>417</td>\n",
       "    </tr>\n",
       "  </tbody>\n",
       "</table>\n",
       "</div>"
      ],
      "text/plain": [
       "   Body Part\n",
       "4        461\n",
       "5        486\n",
       "6        358\n",
       "7        417"
      ]
     },
     "execution_count": 24,
     "metadata": {},
     "output_type": "execute_result"
    }
   ],
   "source": [
    "after_movie_df= per_season[[\"Body Part\"]].iloc[[4,5,6,7]]\n",
    "after_movie_df"
   ]
  },
  {
   "cell_type": "code",
   "execution_count": 29,
   "metadata": {},
   "outputs": [
    {
     "data": {
      "text/plain": [
       "Ttest_indResult(statistic=array([-2.90662316]), pvalue=array([0.02763689]))"
      ]
     },
     "execution_count": 29,
     "metadata": {},
     "output_type": "execute_result"
    }
   ],
   "source": [
    "stats.ttest_ind(before_movie_df, after_movie_df, equal_var=False)"
   ]
  },
  {
   "cell_type": "code",
   "execution_count": null,
   "metadata": {},
   "outputs": [],
   "source": []
  }
 ],
 "metadata": {
  "kernelspec": {
   "display_name": "Python 3",
   "language": "python",
   "name": "python3"
  },
  "language_info": {
   "codemirror_mode": {
    "name": "ipython",
    "version": 3
   },
   "file_extension": ".py",
   "mimetype": "text/x-python",
   "name": "python",
   "nbconvert_exporter": "python",
   "pygments_lexer": "ipython3",
   "version": "3.8.3"
  }
 },
 "nbformat": 4,
 "nbformat_minor": 4
}
