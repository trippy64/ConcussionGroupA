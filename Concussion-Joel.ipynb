{
 "cells": [
  {
   "cell_type": "code",
   "execution_count": 1,
   "metadata": {},
   "outputs": [],
   "source": [
    "import json\n",
    "import os\n",
    "import random\n",
    "import pandas as pd\n",
    "import matplotlib.pyplot as plt\n",
    "import requests\n",
    "from scipy.stats import linregress\n",
    "from pprint import pprint\n",
    "from secrets import api_key"
   ]
  },
  {
   "cell_type": "code",
   "execution_count": null,
   "metadata": {
    "scrolled": true
   },
   "outputs": [],
   "source": [
    "url = \"https://api.sportsdata.io/v3/nfl/stats/json/Injuries\"\n",
    "season = 2011\n",
    "week = 6\n",
    "#team = \"IND\"\n",
    "#target_url = f'{url}/{season}/{week}/{team}?key={api_key}'\n",
    "target_url = f'{url}/{season}/{week}?key={api_key}'\n",
    "print (target_url)\n",
    "\n",
    "response = requests.get(target_url).json()\n",
    "response"
   ]
  },
  {
   "cell_type": "code",
   "execution_count": null,
   "metadata": {},
   "outputs": [],
   "source": [
    "#seasons = [\"2012REG\",\"2013REG\",\"2014REG\",\"2015REG\",\"2016REG\",\"2017REG\",\"2018REG\",\"2019REG\",\"2020REG\"]\n",
    "#week = [1, 2, 3, 4, 5, 6, 7, 8, 9, 10, 11, 12, 13, 14, 15, 16, 17]\n",
    "weeks=[]\n",
    "seasons = [2012, 2013, 2014, 2015, 2016, 2017, 2018, 2019, 2020]\n",
    "#response_list= []\n",
    "params = {\"season\": seasons,\n",
    "          \"week\" : weeks,\n",
    "          \"key\": api_key}\n",
    "test_url = \"https://api.sportsdata.io/v3/nfl/stats/json/Injuries/\"\n",
    "print(test_url)\n",
    "\n",
    "\n",
    "\n",
    "for season  in seasons:\n",
    "   \n",
    "    new_url = f'{test_url}{season}/{week}?key={api_key}'\n",
    "    response = requests.get(new_url, params=params).json()\n",
    "    \n",
    "\n",
    "\n",
    "print(json.dumps(response, indent=2))\n",
    "    \n",
    "    \n",
    "    "
   ]
  },
  {
   "cell_type": "code",
   "execution_count": 4,
   "metadata": {},
   "outputs": [
    {
     "name": "stdout",
     "output_type": "stream",
     "text": [
      "https://api.sportsdata.io/v3/nfl/stats/json/Injuries/\n"
     ]
    },
    {
     "ename": "NameError",
     "evalue": "name 'week' is not defined",
     "output_type": "error",
     "traceback": [
      "\u001b[1;31m---------------------------------------------------------------------------\u001b[0m",
      "\u001b[1;31mNameError\u001b[0m                                 Traceback (most recent call last)",
      "\u001b[1;32m<ipython-input-4-d6cc629f5c04>\u001b[0m in \u001b[0;36m<module>\u001b[1;34m\u001b[0m\n\u001b[0;32m      8\u001b[0m \u001b[0mprint\u001b[0m\u001b[1;33m(\u001b[0m\u001b[0mtest_url\u001b[0m\u001b[1;33m)\u001b[0m\u001b[1;33m\u001b[0m\u001b[1;33m\u001b[0m\u001b[0m\n\u001b[0;32m      9\u001b[0m \u001b[1;32mfor\u001b[0m \u001b[0mseason\u001b[0m  \u001b[1;32min\u001b[0m \u001b[0mseasons\u001b[0m\u001b[1;33m:\u001b[0m\u001b[1;33m\u001b[0m\u001b[1;33m\u001b[0m\u001b[0m\n\u001b[1;32m---> 10\u001b[1;33m     \u001b[0mnew_url\u001b[0m \u001b[1;33m=\u001b[0m \u001b[1;34mf'{test_url}{season}/{week}?key={api_key}'\u001b[0m\u001b[1;33m\u001b[0m\u001b[1;33m\u001b[0m\u001b[0m\n\u001b[0m\u001b[0;32m     11\u001b[0m     \u001b[0mresponse\u001b[0m \u001b[1;33m=\u001b[0m \u001b[0mrequests\u001b[0m\u001b[1;33m.\u001b[0m\u001b[0mget\u001b[0m\u001b[1;33m(\u001b[0m\u001b[0mnew_url\u001b[0m\u001b[1;33m,\u001b[0m \u001b[0mparams\u001b[0m\u001b[1;33m=\u001b[0m\u001b[0mparams\u001b[0m\u001b[1;33m)\u001b[0m\u001b[1;33m.\u001b[0m\u001b[0mjson\u001b[0m\u001b[1;33m(\u001b[0m\u001b[1;33m)\u001b[0m\u001b[1;33m\u001b[0m\u001b[1;33m\u001b[0m\u001b[0m\n\u001b[0;32m     12\u001b[0m     \u001b[0mprint\u001b[0m\u001b[1;33m(\u001b[0m\u001b[0mjson\u001b[0m\u001b[1;33m.\u001b[0m\u001b[0mdumps\u001b[0m\u001b[1;33m(\u001b[0m\u001b[0mresponse\u001b[0m\u001b[1;33m,\u001b[0m \u001b[0mindent\u001b[0m\u001b[1;33m=\u001b[0m\u001b[1;36m2\u001b[0m\u001b[1;33m)\u001b[0m\u001b[1;33m)\u001b[0m\u001b[1;33m\u001b[0m\u001b[1;33m\u001b[0m\u001b[0m\n",
      "\u001b[1;31mNameError\u001b[0m: name 'week' is not defined"
     ]
    }
   ],
   "source": [
    "seasons = [\"2012REG\",\"2013REG\",\"2014REG\",\"2015REG\",\"2016REG\",\"2017REG\",\"2018REG\",\"2019REG\",\"2020REG\"]\n",
    "weeks = range(1, 17)\n",
    "#seasons = []\n",
    "#weeks = []\n",
    "params = {\"season\": seasons,\n",
    "         \"week\": weeks, \"key\": api_key}\n",
    "test_url = \"https://api.sportsdata.io/v3/nfl/stats/json/Injuries/\"\n",
    "print(test_url)\n",
    "for season  in seasons:\n",
    "    new_url = f'{test_url}{season}/{week}?key={api_key}'\n",
    "    response = requests.get(new_url, params=params).json()\n",
    "    print(json.dumps(response, indent=2))\n"
   ]
  },
  {
   "cell_type": "code",
   "execution_count": null,
   "metadata": {},
   "outputs": [],
   "source": [
    "#for team in team_list:\n",
    "#    response[0]['Team']\n",
    "#    if team not in team_list:\n",
    "#        team_list.append(team)\n",
    "#team_list"
   ]
  },
  {
   "cell_type": "code",
   "execution_count": null,
   "metadata": {},
   "outputs": [],
   "source": [
    "injury_id = []\n",
    "player_id =[]\n",
    "season_list = []\n",
    "season_type = []\n",
    "week_list = []\n",
    "name_list = []\n",
    "team_list =[]\n",
    "position_list = []\n",
    "injury_body_part = []\n",
    "declared_inactive = []\n"
   ]
  },
  {
   "cell_type": "code",
   "execution_count": null,
   "metadata": {},
   "outputs": [],
   "source": [
    "params = {\"season\": seasons,\n",
    "         \"week\": weeks, \"key\": api_key}\n",
    "test_url = \"https://api.sportsdata.io/v3/nfl/stats/json/Injuries/\"\n",
    "print(test_url)\n",
    "\n",
    "for season  in seasons:\n",
    "   \n",
    "    new_url = f'{test_url}{season}/{week}?key={api_key}'\n",
    "    response = requests.get(new_url, params=params).json()\n",
    "    \n",
    "    #injury_id.append(response[0][\"InjuryID\"])\n",
    "    #player_id.append(response[0][\"PlayerID\"])\n",
    "    #season_list.append(response[0][\"Season\"])\n",
    "    #season_type.append(response[0][\"SeasonType\"])\n",
    "    #week_list.append(response[0][\"Week\"])\n",
    "    #name_list.append(response[0][\"Name\"])\n",
    "    #team_list.append(response[0][\"Team\"])\n",
    "    #position_list.append(response[0][\"Position\"])\n",
    "    #injury_body_part.append(response[0][\"BodyPart\"])\n",
    "    #declared_inactive.append(response[0][\"DeclaredInactive\"])\n",
    "    \n",
    "    injury_id= [response.get('InjuryID') for response in response]\n",
    "    player_id= [response.get('PlayerID') for response in response]\n",
    "    season= [response.get('Season') for response in response]\n",
    "    season_type= [response.get('SeasonType') for response in response]\n",
    "    week= [response.get('week') for response in response]\n",
    "    name= [response.get('Name') for response in response]\n",
    "    team= [response.get('Team') for response in response]\n",
    "    position= [response.get('Position') for response in response]\n",
    "    body_part= [response.get('BodyPart') for response in response]\n",
    "    declared_inactive= [response.get('DeclaredInactive') for response in response]\n",
    "    \n",
    "print(json.dumps(response, indent=2))"
   ]
  },
  {
   "cell_type": "code",
   "execution_count": null,
   "metadata": {},
   "outputs": [],
   "source": []
  },
  {
   "cell_type": "code",
   "execution_count": null,
   "metadata": {},
   "outputs": [],
   "source": [
    "injury_data=pd.DataFrame(list(zip(injury_id, player_id, season, season_type, name_list, team_list, position_list, injury_body_part, declared_inactive)),\n",
    "                        columns= ['Injury ID', 'Player ID', 'Season', 'Season Type', 'Name', 'Team', 'Position', 'Body Part', 'Declared Inactive'])\n",
    "\n",
    "injury_data.count()"
   ]
  },
  {
   "cell_type": "code",
   "execution_count": null,
   "metadata": {},
   "outputs": [],
   "source": [
    "injury_data = pd.DataFrame({\"Injury ID\": injury_id,\n",
    "                           'Player ID': player_id,\n",
    "                           'Season': season,\n",
    "                           'Season Type': season_type,\n",
    "                           'Week': week_list,                        \n",
    "                           'Name': name_list,\n",
    "                           'Team': team_list,\n",
    "                           'Position': position_list,\n",
    "                           'Body Part': injury_body_part,\n",
    "                           'Declared Inactive': declared_inactive})\n",
    "injury_data"
   ]
  },
  {
   "cell_type": "code",
   "execution_count": null,
   "metadata": {},
   "outputs": [],
   "source": []
  }
 ],
 "metadata": {
  "kernelspec": {
   "display_name": "Python 3",
   "language": "python",
   "name": "python3"
  },
  "language_info": {
   "codemirror_mode": {
    "name": "ipython",
    "version": 3
   },
   "file_extension": ".py",
   "mimetype": "text/x-python",
   "name": "python",
   "nbconvert_exporter": "python",
   "pygments_lexer": "ipython3",
   "version": "3.8.3"
  }
 },
 "nbformat": 4,
 "nbformat_minor": 2
}
